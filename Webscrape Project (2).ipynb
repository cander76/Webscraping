{
 "cells": [
  {
   "cell_type": "code",
   "execution_count": 25,
   "id": "1db3b8cf",
   "metadata": {},
   "outputs": [],
   "source": [
    "import pandas as pd\n",
    "import numpy as np"
   ]
  },
  {
   "cell_type": "code",
   "execution_count": 24,
   "id": "9bcf9ae2",
   "metadata": {},
   "outputs": [],
   "source": [
    "from bs4 import BeautifulSoup\n",
    "import requests\n",
    "import re\n",
    "import matplotlib.pyplot as plt"
   ]
  },
  {
   "cell_type": "code",
   "execution_count": 3,
   "id": "da74f46d",
   "metadata": {},
   "outputs": [],
   "source": [
    "url = 'https://www.imdb.com/list/ls033935095/' # inputting the url"
   ]
  },
  {
   "cell_type": "code",
   "execution_count": 4,
   "id": "dccee48d",
   "metadata": {},
   "outputs": [],
   "source": [
    "r = requests.get(url)"
   ]
  },
  {
   "cell_type": "code",
   "execution_count": 5,
   "id": "4cd0d933",
   "metadata": {},
   "outputs": [
    {
     "data": {
      "text/plain": [
       "200"
      ]
     },
     "execution_count": 5,
     "metadata": {},
     "output_type": "execute_result"
    }
   ],
   "source": [
    "r.status_code # checking to see if the status is good, 200 works"
   ]
  },
  {
   "cell_type": "code",
   "execution_count": 6,
   "id": "f20cb756",
   "metadata": {},
   "outputs": [],
   "source": [
    "soup = BeautifulSoup(r.content, \"html.parser\") # making Beautiful Soup"
   ]
  },
  {
   "cell_type": "code",
   "execution_count": 7,
   "id": "a278e162",
   "metadata": {},
   "outputs": [],
   "source": [
    "# Extracting all of the movie titles\n",
    "Title = []\n",
    "title = soup.select('div h3 a')\n",
    "for titles in title:\n",
    "    Title.append(titles.string)\n"
   ]
  },
  {
   "cell_type": "code",
   "execution_count": 8,
   "id": "5570334c",
   "metadata": {},
   "outputs": [],
   "source": [
    "# Extracting all of the years\n",
    "Year = []\n",
    "year = soup.find_all(class_ = 'lister-item-year text-muted unbold')\n",
    "for years in year:\n",
    "     Year.append(years.string.replace('(','').replace(')',''))"
   ]
  },
  {
   "cell_type": "code",
   "execution_count": 9,
   "id": "bd475df5",
   "metadata": {},
   "outputs": [],
   "source": [
    "# Forming the rank column\n",
    "Rank = [x for x in range(1,65,1)]"
   ]
  },
  {
   "cell_type": "code",
   "execution_count": 10,
   "id": "a3ecee88",
   "metadata": {},
   "outputs": [],
   "source": [
    "# Extracting all of the Genres\n",
    "Genre = []\n",
    "genre = soup.find_all(class_ = 'genre')\n",
    "for genres in genre:\n",
    "     Genre.append(genres.string.replace('\\n','').replace(' ',''))"
   ]
  },
  {
   "cell_type": "code",
   "execution_count": 11,
   "id": "6b2de18b",
   "metadata": {},
   "outputs": [],
   "source": [
    "# Extracting the ratings\n",
    "Rating = []\n",
    "rating = soup.find_all(class_ = 'certificate')\n",
    "for ratings in rating:\n",
    "     Rating.append(ratings.string)"
   ]
  },
  {
   "cell_type": "code",
   "execution_count": 12,
   "id": "7a2885d2",
   "metadata": {},
   "outputs": [],
   "source": [
    "# Extracting the runtimes\n",
    "Runtime = []\n",
    "runtime = soup.find_all(class_ = 'runtime')\n",
    "for runtimes in runtime:\n",
    "     Runtime.append(runtimes.string)"
   ]
  },
  {
   "cell_type": "code",
   "execution_count": 18,
   "id": "891d017c",
   "metadata": {},
   "outputs": [
    {
     "data": {
      "text/plain": [
       "64"
      ]
     },
     "execution_count": 18,
     "metadata": {},
     "output_type": "execute_result"
    }
   ],
   "source": [
    "# Extracting the Star Ratings\n",
    "Star = []\n",
    "star = soup.find_all(class_ = 'ipl-rating-star__rating')[::23]\n",
    "for stars in star:\n",
    "     Star.append(stars.string)"
   ]
  },
  {
   "cell_type": "code",
   "execution_count": 19,
   "id": "6a6347e9",
   "metadata": {},
   "outputs": [],
   "source": [
    "# Putting into a Dataframe\n",
    "df = pd.DataFrame({\n",
    "    'Title' : Title,\n",
    "    'Year' : Year,\n",
    "    'Genre' : Genre,\n",
    "    'Star Rating' : Star\n",
    "})"
   ]
  },
  {
   "cell_type": "code",
   "execution_count": 20,
   "id": "c0f6f1bf",
   "metadata": {},
   "outputs": [],
   "source": [
    "# Adding columns\n",
    "df['Rank'] = Rank\n",
    "df['Genre'] = Genre\n",
    "df['Runtime'] = Runtime\n",
    "df['Rating'] = Rating"
   ]
  },
  {
   "cell_type": "code",
   "execution_count": 26,
   "id": "451a816d",
   "metadata": {},
   "outputs": [
    {
     "data": {
      "text/html": [
       "<div>\n",
       "<style scoped>\n",
       "    .dataframe tbody tr th:only-of-type {\n",
       "        vertical-align: middle;\n",
       "    }\n",
       "\n",
       "    .dataframe tbody tr th {\n",
       "        vertical-align: top;\n",
       "    }\n",
       "\n",
       "    .dataframe thead th {\n",
       "        text-align: right;\n",
       "    }\n",
       "</style>\n",
       "<table border=\"1\" class=\"dataframe\">\n",
       "  <thead>\n",
       "    <tr style=\"text-align: right;\">\n",
       "      <th></th>\n",
       "      <th>Title</th>\n",
       "      <th>Year</th>\n",
       "      <th>Genre</th>\n",
       "      <th>Star Rating</th>\n",
       "      <th>Rank</th>\n",
       "      <th>Runtime</th>\n",
       "      <th>Rating</th>\n",
       "    </tr>\n",
       "  </thead>\n",
       "  <tbody>\n",
       "    <tr>\n",
       "      <th>0</th>\n",
       "      <td>The Wizard of Oz</td>\n",
       "      <td>1939</td>\n",
       "      <td>Adventure,Family,Fantasy</td>\n",
       "      <td>8.1</td>\n",
       "      <td>1</td>\n",
       "      <td>102 min</td>\n",
       "      <td>PG</td>\n",
       "    </tr>\n",
       "    <tr>\n",
       "      <th>1</th>\n",
       "      <td>The Third Man</td>\n",
       "      <td>1949</td>\n",
       "      <td>Film-Noir,Mystery,Thriller</td>\n",
       "      <td>8.1</td>\n",
       "      <td>2</td>\n",
       "      <td>93 min</td>\n",
       "      <td>Approved</td>\n",
       "    </tr>\n",
       "    <tr>\n",
       "      <th>2</th>\n",
       "      <td>Citizen Kane</td>\n",
       "      <td>1941</td>\n",
       "      <td>Drama,Mystery</td>\n",
       "      <td>8.3</td>\n",
       "      <td>3</td>\n",
       "      <td>119 min</td>\n",
       "      <td>PG</td>\n",
       "    </tr>\n",
       "    <tr>\n",
       "      <th>3</th>\n",
       "      <td>Modern Times</td>\n",
       "      <td>1936</td>\n",
       "      <td>Comedy,Drama,Romance</td>\n",
       "      <td>8.5</td>\n",
       "      <td>4</td>\n",
       "      <td>87 min</td>\n",
       "      <td>G</td>\n",
       "    </tr>\n",
       "    <tr>\n",
       "      <th>4</th>\n",
       "      <td>All About Eve</td>\n",
       "      <td>1950</td>\n",
       "      <td>Drama</td>\n",
       "      <td>8.2</td>\n",
       "      <td>5</td>\n",
       "      <td>138 min</td>\n",
       "      <td>Passed</td>\n",
       "    </tr>\n",
       "    <tr>\n",
       "      <th>...</th>\n",
       "      <td>...</td>\n",
       "      <td>...</td>\n",
       "      <td>...</td>\n",
       "      <td>...</td>\n",
       "      <td>...</td>\n",
       "      <td>...</td>\n",
       "      <td>...</td>\n",
       "    </tr>\n",
       "    <tr>\n",
       "      <th>59</th>\n",
       "      <td>Anatomy of a Murder</td>\n",
       "      <td>1959</td>\n",
       "      <td>Drama,Mystery</td>\n",
       "      <td>8</td>\n",
       "      <td>60</td>\n",
       "      <td>161 min</td>\n",
       "      <td>Not Rated</td>\n",
       "    </tr>\n",
       "    <tr>\n",
       "      <th>60</th>\n",
       "      <td>Annie Hall</td>\n",
       "      <td>1977</td>\n",
       "      <td>Comedy,Romance</td>\n",
       "      <td>8</td>\n",
       "      <td>61</td>\n",
       "      <td>93 min</td>\n",
       "      <td>PG</td>\n",
       "    </tr>\n",
       "    <tr>\n",
       "      <th>61</th>\n",
       "      <td>The Leopard</td>\n",
       "      <td>1963</td>\n",
       "      <td>Drama,History</td>\n",
       "      <td>8</td>\n",
       "      <td>62</td>\n",
       "      <td>186 min</td>\n",
       "      <td>PG</td>\n",
       "    </tr>\n",
       "    <tr>\n",
       "      <th>62</th>\n",
       "      <td>Chinatown</td>\n",
       "      <td>1974</td>\n",
       "      <td>Drama,Mystery,Thriller</td>\n",
       "      <td>8.2</td>\n",
       "      <td>63</td>\n",
       "      <td>130 min</td>\n",
       "      <td>R</td>\n",
       "    </tr>\n",
       "    <tr>\n",
       "      <th>63</th>\n",
       "      <td>The Best Years of Our Lives</td>\n",
       "      <td>1946</td>\n",
       "      <td>Drama,Romance,War</td>\n",
       "      <td>8.1</td>\n",
       "      <td>64</td>\n",
       "      <td>170 min</td>\n",
       "      <td>Approved</td>\n",
       "    </tr>\n",
       "  </tbody>\n",
       "</table>\n",
       "<p>64 rows × 7 columns</p>\n",
       "</div>"
      ],
      "text/plain": [
       "                          Title  Year                       Genre Star Rating  \\\n",
       "0              The Wizard of Oz  1939    Adventure,Family,Fantasy         8.1   \n",
       "1                 The Third Man  1949  Film-Noir,Mystery,Thriller         8.1   \n",
       "2                  Citizen Kane  1941               Drama,Mystery         8.3   \n",
       "3                  Modern Times  1936        Comedy,Drama,Romance         8.5   \n",
       "4                 All About Eve  1950                       Drama         8.2   \n",
       "..                          ...   ...                         ...         ...   \n",
       "59          Anatomy of a Murder  1959               Drama,Mystery           8   \n",
       "60                   Annie Hall  1977              Comedy,Romance           8   \n",
       "61                  The Leopard  1963               Drama,History           8   \n",
       "62                    Chinatown  1974      Drama,Mystery,Thriller         8.2   \n",
       "63  The Best Years of Our Lives  1946           Drama,Romance,War         8.1   \n",
       "\n",
       "    Rank  Runtime     Rating  \n",
       "0      1  102 min         PG  \n",
       "1      2   93 min   Approved  \n",
       "2      3  119 min         PG  \n",
       "3      4   87 min          G  \n",
       "4      5  138 min     Passed  \n",
       "..   ...      ...        ...  \n",
       "59    60  161 min  Not Rated  \n",
       "60    61   93 min         PG  \n",
       "61    62  186 min         PG  \n",
       "62    63  130 min          R  \n",
       "63    64  170 min   Approved  \n",
       "\n",
       "[64 rows x 7 columns]"
      ]
     },
     "execution_count": 26,
     "metadata": {},
     "output_type": "execute_result"
    }
   ],
   "source": [
    "df"
   ]
  },
  {
   "cell_type": "code",
   "execution_count": 29,
   "id": "3ec01c5e",
   "metadata": {},
   "outputs": [],
   "source": [
    "df.to_csv(\"moviedata.csv\", sep = '\\t')"
   ]
  }
 ],
 "metadata": {
  "kernelspec": {
   "display_name": "Python 3 (ipykernel)",
   "language": "python",
   "name": "python3"
  },
  "language_info": {
   "codemirror_mode": {
    "name": "ipython",
    "version": 3
   },
   "file_extension": ".py",
   "mimetype": "text/x-python",
   "name": "python",
   "nbconvert_exporter": "python",
   "pygments_lexer": "ipython3",
   "version": "3.9.12"
  }
 },
 "nbformat": 4,
 "nbformat_minor": 5
}
